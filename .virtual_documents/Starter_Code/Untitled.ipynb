from sklearn.model_selection import train_test_split
from sklearn.preprocessing import StandardScaler
import pandas as pd
import tensorflow as tf


import pandas as pd
app_df = pd.read_csv("https://static.bc-edx.com/data/dl-1-2/m21/lms/starter/charity_data.csv")
app_df.head()


#drop the non-beneficial ID columns
app_df = app_df.drop(["EIN"], axis=1)


app_df.nunique()


# Look at NAME value counts to identify and replace with "Other"
name_counts = app_df['NAME'].value_counts()

#Counts greater than 5
name_counts[name_counts>5]


#Determine which values to replace 
names_replace = list(name_counts[name_counts <= 5].index)

#Replace
for app in names_replace:
    app_df['NAME'] = app_df['NAME'].replace(app,"Other")

app_df['NAME'].value_counts()


app_counts = app_df['APPLICATION_TYPE'].value_counts()
app_counts


app_replace = list(app_counts[app_counts <500].index)

for app in app_replace:
    app_df['APPLICATION_TYPE'] = app_df['APPLICATION_TYPE'].replace(app,"Other")

app_df['APPLICATION_TYPE'].value_counts()



